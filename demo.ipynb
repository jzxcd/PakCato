{
 "cells": [
  {
   "cell_type": "markdown",
   "id": "238ddf2c",
   "metadata": {},
   "source": [
    "## Initiate secrets for OpenAI embeddings and Github\n",
    "- OpenAI api key is essential for the demo\n",
    "- github key is optional as pypi does not require api key for metadata"
   ]
  },
  {
   "cell_type": "code",
   "execution_count": 1,
   "id": "f70b3fe5",
   "metadata": {},
   "outputs": [],
   "source": [
    "\n",
    "import os\n",
    "from dotenv import load_dotenv\n",
    "load_dotenv()\n",
    "\n",
    "OPENAI_API_KEY = os.getenv(\"OPENAI_API_KEY\")\n",
    "GITHUB_API_KEY = os.getenv(\"GITHUB_API_KEY\")"
   ]
  },
  {
   "cell_type": "markdown",
   "id": "d8b33799",
   "metadata": {},
   "source": [
    "## Create embeddings for category definitions and sementic context\n",
    "- both can be modified in settings/category_keywords.toml"
   ]
  },
  {
   "cell_type": "code",
   "execution_count": 2,
   "id": "ff60cf7d",
   "metadata": {},
   "outputs": [],
   "source": [
    "from dynaconf import Dynaconf\n",
    "\n",
    "settings = Dynaconf(settings_files=[\n",
    "    \"settings/category_keywords.toml\",\n",
    "    \"settings/component_testset.toml\"\n",
    "])\n",
    "component_keywords = settings.category_keywords.to_dict()"
   ]
  },
  {
   "cell_type": "code",
   "execution_count": 3,
   "id": "9d891401",
   "metadata": {},
   "outputs": [],
   "source": [
    "import pandas as pd\n",
    "from src.utils import get_kw_embedding_df\n",
    "import os\n",
    "\n",
    "if os.path.exists('data/kw_emb_df'):\n",
    "    kw_emb_df = pd.read_feather(\"data/kw_emb_df\")\n",
    "else:\n",
    "    kw_emb_df = get_kw_embedding_df(component_keywords)\n",
    "    kw_emb_df.to_feather(\"data/kw_emb_df\")\n",
    "\n"
   ]
  },
  {
   "cell_type": "markdown",
   "id": "7ddf5398",
   "metadata": {},
   "source": [
    "## Core function for sementic ranking and clustering\n",
    "1. calc rank based on the distance between query and key words of each category\n",
    "2. hybrid clustering using OPTIC and standard deviation based on the score distances"
   ]
  },
  {
   "cell_type": "code",
   "execution_count": 4,
   "id": "fa6f532f",
   "metadata": {},
   "outputs": [],
   "source": [
    "import numpy as np\n",
    "import json\n",
    "from src.model import Model\n",
    "from src.utils import calc_kw_distance, output_json, get_emb_batch\n",
    "from typing import List\n",
    "\n",
    "\n",
    "def run(query: List[str]):\n",
    "    if isinstance(query, str):\n",
    "        query = [query]\n",
    "    emb = get_emb_batch(query)\n",
    "    score_df = calc_kw_distance(\n",
    "        emb,\n",
    "        kw_emb_df\n",
    "    )\n",
    "    df = score_df.groupby(['category_name'])['distance'].mean().reset_index().sort_values('distance', ascending=False)\n",
    "    M = Model()\n",
    "    df['algo_grouping'] = M.algo_grouping(df['distance'].tolist())\n",
    "    df['std_grouping'] = M.std_grouping(df['distance'].tolist())\n",
    "    df['grouping'] = df.apply(M.consolidate_grouping, axis=1)\n",
    "    o = output_json(df)\n",
    "    print(o)\n"
   ]
  },
  {
   "cell_type": "markdown",
   "id": "c0507fab",
   "metadata": {},
   "source": []
  },
  {
   "cell_type": "markdown",
   "id": "b86aebff",
   "metadata": {},
   "source": [
    "## github examples"
   ]
  },
  {
   "cell_type": "code",
   "execution_count": 5,
   "id": "c420b1b5",
   "metadata": {},
   "outputs": [],
   "source": [
    "repo_url=\"https://github.com/scikit-learn/scikit-learn\""
   ]
  },
  {
   "cell_type": "code",
   "execution_count": 6,
   "id": "1e0594f1",
   "metadata": {},
   "outputs": [],
   "source": [
    "from src.github_helper import GhMetadata\n",
    "\n",
    "gh = GhMetadata(\n",
    "    repo_url=repo_url, \n",
    "    # owner=owner, \n",
    "    # repo=repo, \n",
    "    verbose=True\n",
    ")\n",
    "readme = gh.get_readme()\n",
    "topic = gh.get_github_topic()"
   ]
  },
  {
   "cell_type": "code",
   "execution_count": 7,
   "id": "ae213ed9",
   "metadata": {},
   "outputs": [
    {
     "name": "stdout",
     "output_type": "stream",
     "text": [
      "{\n",
      "  \"winner\": [\n",
      "    \"Machine Learning & AI Frameworks\"\n",
      "  ],\n",
      "  \"prediction_cluster_raw\": {\n",
      "    \"1\": [\n",
      "      \"Machine Learning & AI Frameworks\"\n",
      "    ],\n",
      "    \"2\": [\n",
      "      \"Testing & Quality Validation\"\n",
      "    ],\n",
      "    \"3\": [\n",
      "      \"Logging & Monitoring\"\n",
      "    ],\n",
      "    \"4\": [\n",
      "      \"Configuration Management\",\n",
      "      \"Database Interaction\",\n",
      "      \"Operating System Interaction\",\n",
      "      \"Authentication & Authorization\"\n",
      "    ],\n",
      "    \"5\": [\n",
      "      \"File & Data Handling\",\n",
      "      \"Web Framework Components\"\n",
      "    ],\n",
      "    \"6\": [\n",
      "      \"Network Communication\",\n",
      "      \"Cryptography\",\n",
      "      \"Memory Management\"\n",
      "    ]\n",
      "  },\n",
      "  \"prediction_distance_raw\": {\n",
      "    \"Machine Learning & AI Frameworks\": 0.2428405722771753,\n",
      "    \"Testing & Quality Validation\": 0.16932297212452993,\n",
      "    \"Logging & Monitoring\": 0.12828668472159763,\n",
      "    \"Configuration Management\": 0.10654633356608996,\n",
      "    \"Database Interaction\": 0.09074698306559636,\n",
      "    \"Operating System Interaction\": 0.08958592405704817,\n",
      "    \"Authentication & Authorization\": 0.08374149075198833,\n",
      "    \"File & Data Handling\": 0.07484601150332962,\n",
      "    \"Web Framework Components\": 0.07280569912243454,\n",
      "    \"Network Communication\": 0.06941232214702157,\n",
      "    \"Cryptography\": 0.06896012325134647,\n",
      "    \"Memory Management\": 0.056110720002535856\n",
      "  }\n",
      "}\n"
     ]
    }
   ],
   "source": [
    "run(readme)"
   ]
  },
  {
   "cell_type": "code",
   "execution_count": 8,
   "id": "4212d9f9",
   "metadata": {},
   "outputs": [
    {
     "name": "stdout",
     "output_type": "stream",
     "text": [
      "{\n",
      "  \"winner\": [\n",
      "    \"Machine Learning & AI Frameworks\",\n",
      "    \"Database Interaction\",\n",
      "    \"Testing & Quality Validation\",\n",
      "    \"Logging & Monitoring\",\n",
      "    \"File & Data Handling\"\n",
      "  ],\n",
      "  \"prediction_cluster_raw\": {\n",
      "    \"0\": [\n",
      "      \"Machine Learning & AI Frameworks\",\n",
      "      \"Database Interaction\",\n",
      "      \"Testing & Quality Validation\",\n",
      "      \"Logging & Monitoring\",\n",
      "      \"File & Data Handling\"\n",
      "    ],\n",
      "    \"1\": [\n",
      "      \"Operating System Interaction\"\n",
      "    ],\n",
      "    \"2\": [\n",
      "      \"Web Framework Components\",\n",
      "      \"Cryptography\"\n",
      "    ],\n",
      "    \"3\": [\n",
      "      \"Memory Management\",\n",
      "      \"Configuration Management\",\n",
      "      \"Authentication & Authorization\",\n",
      "      \"Network Communication\"\n",
      "    ]\n",
      "  },\n",
      "  \"prediction_distance_raw\": {\n",
      "    \"Machine Learning & AI Frameworks\": 0.345456016605427,\n",
      "    \"Database Interaction\": 0.30818221621039643,\n",
      "    \"Testing & Quality Validation\": 0.2943427296141345,\n",
      "    \"Logging & Monitoring\": 0.28661319949573233,\n",
      "    \"File & Data Handling\": 0.28106328920898627,\n",
      "    \"Operating System Interaction\": 0.2385238336486564,\n",
      "    \"Web Framework Components\": 0.22176498080599208,\n",
      "    \"Cryptography\": 0.22135667565745284,\n",
      "    \"Memory Management\": 0.21867812498973765,\n",
      "    \"Configuration Management\": 0.2167249538390459,\n",
      "    \"Authentication & Authorization\": 0.21511927567454572,\n",
      "    \"Network Communication\": 0.21067941570506582\n",
      "  }\n",
      "}\n"
     ]
    }
   ],
   "source": [
    "run(topic)\n"
   ]
  },
  {
   "cell_type": "markdown",
   "id": "ab6d142d",
   "metadata": {},
   "source": [
    "## pypi examples"
   ]
  },
  {
   "cell_type": "code",
   "execution_count": 10,
   "id": "3b5a68d9",
   "metadata": {},
   "outputs": [],
   "source": [
    "from src.pypi_helper import PypiMetadata"
   ]
  },
  {
   "cell_type": "code",
   "execution_count": null,
   "id": "86e661f9",
   "metadata": {},
   "outputs": [
    {
     "data": {
      "text/plain": [
       "{'status': 'success',\n",
       " 'description': \".. -*- mode: rst -*-\\n\\n|Azure| |Codecov| |CircleCI| |Nightly wheels| |Ruff| |PythonVersion| |PyPi| |DOI| |Benchmark|\\n\\n.. |Azure| image:: https://dev.azure.com/scikit-learn/scikit-learn/_apis/build/status/scikit-learn.scikit-learn?branchName=main\\n   :target: https://dev.azure.com/scikit-learn/scikit-learn/_build/latest?definitionId=1&branchName=main\\n\\n.. |CircleCI| image:: https://circleci.com/gh/scikit-learn/scikit-learn/tree/main.svg?style=shield\\n   :target: https://circleci.com/gh/scikit-learn/scikit-learn\\n\\n.. |Codecov| image:: https://codecov.io/gh/scikit-learn/scikit-learn/branch/main/graph/badge.svg?token=Pk8G9gg3y9\\n   :target: https://codecov.io/gh/scikit-learn/scikit-learn\\n\\n.. |Nightly wheels| image:: https://github.com/scikit-learn/scikit-learn/actions/workflows/wheels.yml/badge.svg?event=schedule\\n   :target: https://github.com/scikit-learn/scikit-learn/actions?query=workflow%3A%22Wheel+builder%22+event%3Aschedule\\n\\n.. |Ruff| image:: https://img.shields.io/badge/code%20style-ruff-000000.svg\\n   :target: https://github.com/astral-sh/ruff\\n\\n.. |PythonVersion| image:: https://img.shields.io/pypi/pyversions/scikit-learn.svg\\n   :target: https://pypi.org/project/scikit-learn/\\n\\n.. |PyPi| image:: https://img.shields.io/pypi/v/scikit-learn\\n   :target: https://pypi.org/project/scikit-learn\\n\\n.. |DOI| image:: https://zenodo.org/badge/21369/scikit-learn/scikit-learn.svg\\n   :target: https://zenodo.org/badge/latestdoi/21369/scikit-learn/scikit-learn\\n\\n.. |Benchmark| image:: https://img.shields.io/badge/Benchmarked%20by-asv-blue\\n   :target: https://scikit-learn.org/scikit-learn-benchmarks\\n\\n.. |PythonMinVersion| replace:: 3.10\\n.. |NumPyMinVersion| replace:: 1.22.0\\n.. |SciPyMinVersion| replace:: 1.8.0\\n.. |JoblibMinVersion| replace:: 1.2.0\\n.. |ThreadpoolctlMinVersion| replace:: 3.1.0\\n.. |MatplotlibMinVersion| replace:: 3.5.0\\n.. |Scikit-ImageMinVersion| replace:: 0.19.0\\n.. |PandasMinVersion| replace:: 1.4.0\\n.. |SeabornMinVersion| replace:: 0.9.0\\n.. |PytestMinVersion| replace:: 7.1.2\\n.. |PlotlyMinVersion| replace:: 5.14.0\\n\\n.. image:: https://raw.githubusercontent.com/scikit-learn/scikit-learn/main/doc/logos/scikit-learn-logo.png\\n  :target: https://scikit-learn.org/\\n\\n**scikit-learn** is a Python module for machine learning built on top of\\nSciPy and is distributed under the 3-Clause BSD license.\\n\\nThe project was started in 2007 by David Cournapeau as a Google Summer\\nof Code project, and since then many volunteers have contributed. See\\nthe `About us `__ page\\nfor a list of core contributors.\\n\\nIt is currently maintained by a team of volunteers.\\n\\nWebsite: https://scikit-learn.org\\n\\nInstallation\\n------------\\n\\nDependencies\\n~~~~~~~~~~~~\\n\\nscikit-learn requires:\\n\\n- Python (>= |PythonMinVersion|)\\n- NumPy (>= |NumPyMinVersion|)\\n- SciPy (>= |SciPyMinVersion|)\\n- joblib (>= |JoblibMinVersion|)\\n- threadpoolctl (>= |ThreadpoolctlMinVersion|)\\n\\n=======\\n\\nScikit-learn plotting capabilities (i.e., functions start with ``plot_`` and\\nclasses end with ``Display``) require Matplotlib (>= |MatplotlibMinVersion|).\\nFor running the examples Matplotlib >= |MatplotlibMinVersion| is required.\\nA few examples require scikit-image >= |Scikit-ImageMinVersion|, a few examples\\nrequire pandas >= |PandasMinVersion|, some examples require seaborn >=\\n|SeabornMinVersion| and plotly >= |PlotlyMinVersion|.\\n\\nUser installation\\n~~~~~~~~~~~~~~~~~\\n\\nIf you already have a working installation of NumPy and SciPy,\\nthe easiest way to install scikit-learn is using ``pip``::\\n\\n    pip install -U scikit-learn\\n\\nor ``conda``::\\n\\n    conda install -c conda-forge scikit-learn\\n\\nThe documentation includes more detailed `installation instructions `_.\\n\\n\\nChangelog\\n---------\\n\\nSee the `changelog `__\\nfor a history of notable changes to scikit-learn.\\n\\nDevelopment\\n-----------\\n\\nWe welcome new contributors of all experience levels. The scikit-learn\\ncommunity goals are to be helpful, welcoming, and effective. The\\n`Development Guide `_\\nhas detailed information about contributing code, documentation, tests, and\\nmore. We've included some basic information in this README.\\n\\nImportant links\\n~~~~~~~~~~~~~~~\\n\\n- Official source code repo: https://github.com/scikit-learn/scikit-learn\\n- Download releases: https://pypi.org/project/scikit-learn/\\n- Issue tracker: https://github.com/scikit-learn/scikit-learn/issues\\n\\nSource code\\n~~~~~~~~~~~\\n\\nYou can check the latest sources with the command::\\n\\n    git clone https://github.com/scikit-learn/scikit-learn.git\\n\\nContributing\\n~~~~~~~~~~~~\\n\\nTo learn more about making a contribution to scikit-learn, please see our\\n`Contributing guide\\n`_.\\n\\nTesting\\n~~~~~~~\\n\\nAfter installation, you can launch the test suite from outside the source\\ndirectory (you will need to have ``pytest`` >= |PyTestMinVersion| installed)::\\n\\n    pytest sklearn\\n\\nSee the web page https://scikit-learn.org/dev/developers/contributing.html#testing-and-improving-test-coverage\\nfor more information.\\n\\n    Random number generation can be controlled during testing by setting\\n    the ``SKLEARN_SEED`` environment variable.\\n\\nSubmitting a Pull Request\\n~~~~~~~~~~~~~~~~~~~~~~~~~\\n\\nBefore opening a Pull Request, have a look at the\\nfull Contributing page to make sure your code complies\\nwith our guidelines: https://scikit-learn.org/stable/developers/index.html\\n\\nProject History\\n---------------\\n\\nThe project was started in 2007 by David Cournapeau as a Google Summer\\nof Code project, and since then many volunteers have contributed. See\\nthe `About us `__ page\\nfor a list of core contributors.\\n\\nThe project is currently maintained by a team of volunteers.\\n\\n**Note**: `scikit-learn` was previously referred to as `scikits.learn`.\\n\\nHelp and Support\\n----------------\\n\\nDocumentation\\n~~~~~~~~~~~~~\\n\\n- HTML documentation (stable release): https://scikit-learn.org\\n- HTML documentation (development version): https://scikit-learn.org/dev/\\n- FAQ: https://scikit-learn.org/stable/faq.html\\n\\nCommunication\\n~~~~~~~~~~~~~\\n\\nMain Channels\\n^^^^^^^^^^^^^\\n\\n- **Website**: https://scikit-learn.org\\n- **Blog**: https://blog.scikit-learn.org\\n- **Mailing list**: https://mail.python.org/mailman/listinfo/scikit-learn\\n\\nDeveloper & Support\\n^^^^^^^^^^^^^^^^^^^^^^\\n\\n- **GitHub Discussions**: https://github.com/scikit-learn/scikit-learn/discussions\\n- **Stack Overflow**: https://stackoverflow.com/questions/tagged/scikit-learn\\n- **Discord**: https://discord.gg/h9qyrK8Jc8\\n\\nSocial Media Platforms\\n^^^^^^^^^^^^^^^^^^^^^^\\n\\n- **LinkedIn**: https://www.linkedin.com/company/scikit-learn\\n- **YouTube**: https://www.youtube.com/channel/UCJosFjYm0ZYVUARxuOZqnnw/playlists\\n- **Facebook**: https://www.facebook.com/scikitlearnofficial/\\n- **Instagram**: https://www.instagram.com/scikitlearnofficial/\\n- **TikTok**: https://www.tiktok.com/@scikit.learn\\n- **Bluesky**: https://bsky.app/profile/scikit-learn.org\\n- **Mastodon**: https://mastodon.social/@sklearn@fosstodon.org\\n\\nResources\\n^^^^^^^^^\\n\\n- **Calendar**: https://blog.scikit-learn.org/calendar/\\n- **Logos & Branding**: https://github.com/scikit-learn/scikit-learn/tree/main/doc/logos\\n\\nCitation\\n~~~~~~~~\\n\\nIf you use scikit-learn in a scientific publication, we would appreciate citations: https://scikit-learn.org/stable/about.html#citing-scikit-learn\\n\",\n",
       " 'topic': ['Scientific/Engineering', 'Software Development'],\n",
       " 'keywords': None,\n",
       " 'summary': 'A set of python modules for machine learning and data mining'}"
      ]
     },
     "execution_count": 11,
     "metadata": {},
     "output_type": "execute_result"
    }
   ],
   "source": [
    "pp = PypiMetadata('scikit-learn')\n",
    "pp_meta = pp.get_output()"
   ]
  },
  {
   "cell_type": "code",
   "execution_count": 14,
   "id": "913ca602",
   "metadata": {},
   "outputs": [
    {
     "name": "stdout",
     "output_type": "stream",
     "text": [
      "{\n",
      "  \"winner\": [\n",
      "    \"Machine Learning & AI Frameworks\"\n",
      "  ],\n",
      "  \"prediction_cluster_raw\": {\n",
      "    \"1\": [\n",
      "      \"Machine Learning & AI Frameworks\"\n",
      "    ],\n",
      "    \"2\": [\n",
      "      \"Database Interaction\",\n",
      "      \"Operating System Interaction\",\n",
      "      \"Logging & Monitoring\",\n",
      "      \"File & Data Handling\"\n",
      "    ],\n",
      "    \"3\": [\n",
      "      \"Testing & Quality Validation\",\n",
      "      \"Network Communication\",\n",
      "      \"Web Framework Components\",\n",
      "      \"Configuration Management\"\n",
      "    ],\n",
      "    \"4\": [\n",
      "      \"Cryptography\",\n",
      "      \"Authentication & Authorization\",\n",
      "      \"Memory Management\"\n",
      "    ]\n",
      "  },\n",
      "  \"prediction_distance_raw\": {\n",
      "    \"Machine Learning & AI Frameworks\": 0.2881788745667235,\n",
      "    \"Database Interaction\": 0.164441953259365,\n",
      "    \"Operating System Interaction\": 0.14782518568979633,\n",
      "    \"Logging & Monitoring\": 0.14189976873211133,\n",
      "    \"File & Data Handling\": 0.13805172347690686,\n",
      "    \"Testing & Quality Validation\": 0.1251943102803027,\n",
      "    \"Network Communication\": 0.12399576405428482,\n",
      "    \"Web Framework Components\": 0.11771149038778479,\n",
      "    \"Configuration Management\": 0.11113945990464595,\n",
      "    \"Cryptography\": 0.10247370857907022,\n",
      "    \"Authentication & Authorization\": 0.09992713739657696,\n",
      "    \"Memory Management\": 0.08580019175410149\n",
      "  }\n",
      "}\n"
     ]
    }
   ],
   "source": [
    "run(pp_meta['summary'])\n"
   ]
  },
  {
   "cell_type": "code",
   "execution_count": 13,
   "id": "44c21bb3",
   "metadata": {},
   "outputs": [
    {
     "name": "stdout",
     "output_type": "stream",
     "text": [
      "{\n",
      "  \"winner\": [\n",
      "    \"Testing & Quality Validation\",\n",
      "    \"Operating System Interaction\"\n",
      "  ],\n",
      "  \"prediction_cluster_raw\": {\n",
      "    \"0\": [\n",
      "      \"Testing & Quality Validation\",\n",
      "      \"Operating System Interaction\"\n",
      "    ],\n",
      "    \"1\": [\n",
      "      \"Database Interaction\",\n",
      "      \"Configuration Management\"\n",
      "    ],\n",
      "    \"2\": [\n",
      "      \"File & Data Handling\",\n",
      "      \"Web Framework Components\"\n",
      "    ],\n",
      "    \"3\": [\n",
      "      \"Machine Learning & AI Frameworks\",\n",
      "      \"Network Communication\",\n",
      "      \"Logging & Monitoring\",\n",
      "      \"Authentication & Authorization\"\n",
      "    ],\n",
      "    \"4\": [\n",
      "      \"Cryptography\",\n",
      "      \"Memory Management\"\n",
      "    ]\n",
      "  },\n",
      "  \"prediction_distance_raw\": {\n",
      "    \"Testing & Quality Validation\": 0.2795465695157602,\n",
      "    \"Operating System Interaction\": 0.2782623050734585,\n",
      "    \"Database Interaction\": 0.25290058306942753,\n",
      "    \"Configuration Management\": 0.25231756531915567,\n",
      "    \"File & Data Handling\": 0.2449421698503955,\n",
      "    \"Web Framework Components\": 0.24349921890645487,\n",
      "    \"Machine Learning & AI Frameworks\": 0.23359279668806857,\n",
      "    \"Network Communication\": 0.23271352039716744,\n",
      "    \"Logging & Monitoring\": 0.22516012210428463,\n",
      "    \"Authentication & Authorization\": 0.212000047334633,\n",
      "    \"Cryptography\": 0.19109873745144543,\n",
      "    \"Memory Management\": 0.1775632816128006\n",
      "  }\n",
      "}\n"
     ]
    }
   ],
   "source": [
    "run(pp_meta['topic'])\n"
   ]
  },
  {
   "cell_type": "code",
   "execution_count": null,
   "id": "2ef047bf",
   "metadata": {},
   "outputs": [],
   "source": []
  }
 ],
 "metadata": {
  "kernelspec": {
   "display_name": ".venv",
   "language": "python",
   "name": "python3"
  },
  "language_info": {
   "codemirror_mode": {
    "name": "ipython",
    "version": 3
   },
   "file_extension": ".py",
   "mimetype": "text/x-python",
   "name": "python",
   "nbconvert_exporter": "python",
   "pygments_lexer": "ipython3",
   "version": "3.10.12"
  }
 },
 "nbformat": 4,
 "nbformat_minor": 5
}
