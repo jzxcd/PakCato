{
 "cells": [
  {
   "cell_type": "code",
   "execution_count": 8,
   "id": "f70b3fe5",
   "metadata": {},
   "outputs": [],
   "source": [
    "\n",
    "import os\n",
    "from dotenv import load_dotenv\n",
    "load_dotenv()\n",
    "\n",
    "OPENAI_API_KEY = os.getenv(\"OPENAI_API_KEY\")\n",
    "GITHUB_API_KEY = os.getenv(\"GITHUB_API_KEY\")"
   ]
  },
  {
   "cell_type": "code",
   "execution_count": 9,
   "id": "ff60cf7d",
   "metadata": {},
   "outputs": [],
   "source": [
    "from dynaconf import Dynaconf\n",
    "\n",
    "settings = Dynaconf(settings_files=[\n",
    "    \"settings/category_keywords.toml\",\n",
    "    \"settings/component_testset.toml\"\n",
    "])\n",
    "component_keywords = settings.category_keywords.to_dict()"
   ]
  },
  {
   "cell_type": "code",
   "execution_count": 10,
   "id": "9d891401",
   "metadata": {},
   "outputs": [],
   "source": [
    "import pandas as pd\n",
    "from openai import OpenAI\n",
    "from src.utils import TokenUtils\n",
    "from typing import List\n",
    "\n",
    "def get_emb_batch(batch_text: List[str], emb_size: int=512) -> List[List[float]]:\n",
    "    \"\"\"Generate embeddings for a batch of text strings.\"\"\"\n",
    "\n",
    "    try:\n",
    "        response = OpenAI().embeddings.create(\n",
    "            input=[TokenUtils(input_text).trim() for input_text in batch_text],\n",
    "            model='text-embedding-3-small'\n",
    "        )\n",
    "        return [data.embedding[:emb_size] for data in response.data]\n",
    "\n",
    "    except Exception as e:\n",
    "        raise RuntimeError(f\"Failed to get embeddings: {e}\")    \n",
    "\n",
    "\n",
    "def get_kw_embedding_df(kw: dict) -> pd.DataFrame:\n",
    "    \"\"\"convert defined categories and their keywords to df with embeddings\"\"\"\n",
    "\n",
    "    kw_df = pd.DataFrame(\n",
    "        [(k, v) for k, values in component_keywords.items() for v in values], \n",
    "        columns=[\"category_name\", \"keywords\"]\n",
    "    )\n",
    "\n",
    "    # calculate emb\n",
    "    kw_df['embeddings'] = get_emb_batch(kw_df[\"keywords\"].values)\n",
    "\n",
    "    return kw_df"
   ]
  },
  {
   "cell_type": "code",
   "execution_count": 11,
   "id": "fa6f532f",
   "metadata": {},
   "outputs": [],
   "source": [
    "# kw_emb_df = get_embedding(component_keywords)\n",
    "# kw_emb_df.to_feather(\"data/kw_emb_df\")\n",
    "kw_emb_df = pd.read_feather(\"data/kw_emb_df\")"
   ]
  },
  {
   "cell_type": "markdown",
   "id": "c0507fab",
   "metadata": {},
   "source": []
  },
  {
   "cell_type": "markdown",
   "id": "b86aebff",
   "metadata": {},
   "source": [
    "# github"
   ]
  },
  {
   "cell_type": "code",
   "execution_count": 12,
   "id": "c420b1b5",
   "metadata": {},
   "outputs": [],
   "source": [
    "owner = 'scikit-learn'\n",
    "repo = 'scikit-learn'"
   ]
  },
  {
   "cell_type": "code",
   "execution_count": 13,
   "id": "1e0594f1",
   "metadata": {},
   "outputs": [],
   "source": [
    "from src.github_helper import GhMetadata\n",
    "\n",
    "gh = GhMetadata(\n",
    "    # repo_url=\"github.com/PyGithub/PyGithub\", \n",
    "    owner=owner, \n",
    "    repo=repo, \n",
    "    verbose=True\n",
    ")\n",
    "readme = gh.get_readme()\n",
    "topic = gh.get_github_topic()"
   ]
  },
  {
   "cell_type": "code",
   "execution_count": 18,
   "id": "2d2d4473",
   "metadata": {},
   "outputs": [],
   "source": [
    "readme_emb = get_emb_batch([readme])\n",
    "topic_emb = get_emb_batch(topic)"
   ]
  },
  {
   "cell_type": "code",
   "execution_count": null,
   "id": "5eb75c0c",
   "metadata": {},
   "outputs": [],
   "source": [
    "import numpy as np\n",
    "from sklearn.metrics.pairwise import cosine_similarity\n",
    "\n",
    "def calc_kw_distance(query_array: List[List[float]], kw_emb_df: pd.DataFrame):   \n",
    "\n",
    "    if 'embeddings' not in kw_emb_df.columns:\n",
    "        raise ValueError(\"kw_emb_df must have an 'embeddings' column.\")\n",
    "    if not query_array:\n",
    "        raise ValueError(\"query_array must not be empty.\")\n",
    "    \n",
    "    df = kw_emb_df.copy()\n",
    "    distances = cosine_similarity(\n",
    "        np.vstack(df['embeddings'].tolist()), \n",
    "        np.vstack(query_array)\n",
    "    )\n",
    "    if distances.shape[1] > 1:\n",
    "        print('Multiple queries found, averaging similartiy...')\n",
    "        distances = np.mean(distances, axis=1)\n",
    "    \n",
    "    df['distance'] = distances\n",
    "    return df.drop(['embeddings'], axis=1)\n",
    "    "
   ]
  },
  {
   "cell_type": "code",
   "execution_count": 21,
   "id": "dcf52e30",
   "metadata": {},
   "outputs": [],
   "source": [
    "score_df = calc_kw_distance(\n",
    "    readme_emb,\n",
    "    kw_emb_df\n",
    ")"
   ]
  },
  {
   "cell_type": "code",
   "execution_count": 23,
   "id": "f6c716cd",
   "metadata": {},
   "outputs": [
    {
     "data": {
      "text/plain": [
       "category_name\n",
       "Authentication & Authorization      0.083741\n",
       "Configuration Management            0.106546\n",
       "Cryptography                        0.068960\n",
       "Database Interaction                0.090747\n",
       "File & Data Handling                0.074846\n",
       "Logging & Monitoring                0.128287\n",
       "Machine Learning & AI Frameworks    0.242841\n",
       "Memory Management                   0.056111\n",
       "Network Communication               0.069412\n",
       "Operating System Interaction        0.089586\n",
       "Testing & Quality Validation        0.169323\n",
       "Web Framework Components            0.072806\n",
       "Name: distance, dtype: float64"
      ]
     },
     "execution_count": 23,
     "metadata": {},
     "output_type": "execute_result"
    }
   ],
   "source": [
    "score_df.groupby(['category_name'])['distance'].mean()"
   ]
  },
  {
   "cell_type": "code",
   "execution_count": null,
   "id": "6d1f78f6",
   "metadata": {},
   "outputs": [],
   "source": []
  },
  {
   "cell_type": "code",
   "execution_count": null,
   "id": "1efc3982",
   "metadata": {},
   "outputs": [],
   "source": [
    "from sklearn.cluster import OPTICS\n",
    "\n",
    "class Model:\n",
    "\n",
    "    def _curate_group_id_w_outlier(self, a):\n",
    "        \"input assumed the group ids came clustering result from sorted scores in descending order\"\n",
    "        increment = 0\n",
    "        curated = []\n",
    "        for i, group_id in enumerate(a):\n",
    "            if group_id == -1:\n",
    "                if i == 0:\n",
    "                    increment = 1\n",
    "                    curated.append(group_id + increment)\n",
    "                else:\n",
    "                    curated.append(group_id)\n",
    "            else:\n",
    "                curated.append(group_id + increment)\n",
    "\n",
    "        return curated\n",
    "\n",
    "\n",
    "    def algo_grouping(self, scores: List[float]):\n",
    "        for prev, curr in zip(scores, scores[1:]):\n",
    "            assert prev >= curr, \"scores input to be descending order\"\n",
    "        \n",
    "        # model = DBSCAN(eps=0.01, min_samples=2)\n",
    "        model = OPTICS(min_samples=2, xi=0.05)\n",
    "        grouping = model.fit_predict(np.array(scores).reshape(-1, 1))\n",
    "        return self._curate_group_id_w_outlier(grouping)\n",
    "\n",
    "\n",
    "    def std_grouping(self, scores: List[float]):\n",
    "        # assumed the scores are sorted decendingly\n",
    "        sorted_scores = sorted(scores)[::-1]\n",
    "        score_gaps = [sorted_scores[i]-sorted_scores[i+1] for i in range(len(sorted_scores)-1)]\n",
    "\n",
    "        # calculate gap standard deviation for threshold\n",
    "        threshold = np.std(score_gaps)\n",
    "\n",
    "        # iterate for grouping\n",
    "        current_score = sorted_scores[0]\n",
    "        grouped_categories = [0]\n",
    "        counter = 0\n",
    "        for i, s in enumerate(sorted_scores):\n",
    "            if i == 0:\n",
    "                continue\n",
    "            if abs(current_score - s) > threshold:\n",
    "                counter += 1\n",
    "            current_score = s\n",
    "            grouped_categories.append(counter)\n",
    "        return grouped_categories\n",
    "    \n",
    "    \n",
    "    def consolidate_grouping(self, row):\n",
    "        \"To consolidate std and algo grouping\"\n",
    "\n",
    "        std_grouping = np.array(row['std_grouping'])\n",
    "        algo_grouping = np.array(row['algo_grouping'])\n",
    "\n",
    "        if np.sum(algo_grouping==0) <= 3:\n",
    "            return algo_grouping\n",
    "        if np.sum(algo_grouping==0) <= np.sum(std_grouping==0):\n",
    "            return algo_grouping\n",
    "\n",
    "        return std_grouping\n"
   ]
  },
  {
   "cell_type": "code",
   "execution_count": null,
   "id": "77277903",
   "metadata": {},
   "outputs": [],
   "source": [
    "df = score_df.groupby(['category_name'])['distance'].mean().reset_index().sort_values('distance', ascending=False)\n",
    "M = Model()\n",
    "df['algo_grouping'] = M.algo_grouping(df['distance'].tolist())\n",
    "df['std_grouping'] = M.std_grouping(df['distance'].tolist())\n",
    "df['grouping'] = df.apply(M.consolidate_grouping, axis=1)"
   ]
  },
  {
   "cell_type": "code",
   "execution_count": null,
   "id": "ca526932",
   "metadata": {},
   "outputs": [],
   "source": []
  },
  {
   "cell_type": "markdown",
   "id": "ab6d142d",
   "metadata": {},
   "source": [
    "# pypi"
   ]
  },
  {
   "cell_type": "code",
   "execution_count": 11,
   "id": "3b5a68d9",
   "metadata": {},
   "outputs": [],
   "source": [
    "from src.pypi_helper import PypiMetadata"
   ]
  },
  {
   "cell_type": "code",
   "execution_count": 12,
   "id": "86e661f9",
   "metadata": {},
   "outputs": [
    {
     "data": {
      "text/plain": [
       "{'status': 'success',\n",
       " 'description': '\\n--------------------------------------------------------------------------------\\n\\nPyTorch is a Python package that provides two high-level features:\\n- Tensor computation (like NumPy) with strong GPU acceleration\\n- Deep neural networks built on a tape-based autograd system\\n\\nYou can reuse your favorite Python packages such as NumPy, SciPy, and Cython to extend PyTorch when needed.\\n\\nOur trunk health (Continuous Integration signals) can be found at [hud.pytorch.org](https://hud.pytorch.org/ci/pytorch/pytorch/main).\\n\\n\\n\\n- [More About PyTorch](#more-about-pytorch)\\n  - [A GPU-Ready Tensor Library](#a-gpu-ready-tensor-library)\\n  - [Dynamic Neural Networks: Tape-Based Autograd](#dynamic-neural-networks-tape-based-autograd)\\n  - [Python First](#python-first)\\n  - [Imperative Experiences](#imperative-experiences)\\n  - [Fast and Lean](#fast-and-lean)\\n  - [Extensions Without Pain](#extensions-without-pain)\\n- [Installation](#installation)\\n  - [Binaries](#binaries)\\n    - [NVIDIA Jetson Platforms](#nvidia-jetson-platforms)\\n  - [From Source](#from-source)\\n    - [Prerequisites](#prerequisites)\\n      - [NVIDIA CUDA Support](#nvidia-cuda-support)\\n      - [AMD ROCm Support](#amd-rocm-support)\\n      - [Intel GPU Support](#intel-gpu-support)\\n    - [Get the PyTorch Source](#get-the-pytorch-source)\\n    - [Install Dependencies](#install-dependencies)\\n    - [Install PyTorch](#install-pytorch)\\n      - [Adjust Build Options (Optional)](#adjust-build-options-optional)\\n  - [Docker Image](#docker-image)\\n    - [Using pre-built images](#using-pre-built-images)\\n    - [Building the image yourself](#building-the-image-yourself)\\n  - [Building the Documentation](#building-the-documentation)\\n  - [Previous Versions](#previous-versions)\\n- [Getting Started](#getting-started)\\n- [Resources](#resources)\\n- [Communication](#communication)\\n- [Releases and Contributing](#releases-and-contributing)\\n- [The Team](#the-team)\\n- [License](#license)\\n\\n\\n\\n## More About PyTorch\\n\\n[Learn the basics of PyTorch](https://pytorch.org/tutorials/beginner/basics/intro.html)\\n\\nAt a granular level, PyTorch is a library that consists of the following components:\\n\\n| Component | Description |\\n| ---- | --- |\\n| [**torch**](https://pytorch.org/docs/stable/torch.html) | A Tensor library like NumPy, with strong GPU support |\\n| [**torch.autograd**](https://pytorch.org/docs/stable/autograd.html) | A tape-based automatic differentiation library that supports all differentiable Tensor operations in torch |\\n| [**torch.jit**](https://pytorch.org/docs/stable/jit.html) | A compilation stack (TorchScript) to create serializable and optimizable models from PyTorch code  |\\n| [**torch.nn**](https://pytorch.org/docs/stable/nn.html) | A neural networks library deeply integrated with autograd designed for maximum flexibility |\\n| [**torch.multiprocessing**](https://pytorch.org/docs/stable/multiprocessing.html) | Python multiprocessing, but with magical memory sharing of torch Tensors across processes. Useful for data loading and Hogwild training |\\n| [**torch.utils**](https://pytorch.org/docs/stable/data.html) | DataLoader and other utility functions for convenience |\\n\\nUsually, PyTorch is used either as:\\n\\n- A replacement for NumPy to use the power of GPUs.\\n- A deep learning research platform that provides maximum flexibility and speed.\\n\\nElaborating Further:\\n\\n### A GPU-Ready Tensor Library\\n\\nIf you use NumPy, then you have used Tensors (a.k.a. ndarray).\\n\\n\\nPyTorch provides Tensors that can live either on the CPU or the GPU and accelerates the\\ncomputation by a huge amount.\\n\\nWe provide a wide variety of tensor routines to accelerate and fit your scientific computation needs\\nsuch as slicing, indexing, mathematical operations, linear algebra, reductions.\\nAnd they are fast!\\n\\n### Dynamic Neural Networks: Tape-Based Autograd\\n\\nPyTorch has a unique way of building neural networks: using and replaying a tape recorder.\\n\\nMost frameworks such as TensorFlow, Theano, Caffe, and CNTK have a static view of the world.\\nOne has to build a neural network and reuse the same structure again and again.\\nChanging the way the network behaves means that one has to start from scratch.\\n\\nWith PyTorch, we use a technique called reverse-mode auto-differentiation, which allows you to\\nchange the way your network behaves arbitrarily with zero lag or overhead. Our inspiration comes\\nfrom several research papers on this topic, as well as current and past work such as\\n[torch-autograd](https://github.com/twitter/torch-autograd),\\n[autograd](https://github.com/HIPS/autograd),\\n[Chainer](https://chainer.org), etc.\\n\\nWhile this technique is not unique to PyTorch, it\\'s one of the fastest implementations of it to date.\\nYou get the best of speed and flexibility for your crazy research.\\n\\n\\n### Python First\\n\\nPyTorch is not a Python binding into a monolithic C++ framework.\\nIt is built to be deeply integrated into Python.\\nYou can use it naturally like you would use [NumPy](https://www.numpy.org/) / [SciPy](https://www.scipy.org/) / [scikit-learn](https://scikit-learn.org) etc.\\nYou can write your new neural network layers in Python itself, using your favorite libraries\\nand use packages such as [Cython](https://cython.org/) and [Numba](http://numba.pydata.org/).\\nOur goal is to not reinvent the wheel where appropriate.\\n\\n### Imperative Experiences\\n\\nPyTorch is designed to be intuitive, linear in thought, and easy to use.\\nWhen you execute a line of code, it gets executed. There isn\\'t an asynchronous view of the world.\\nWhen you drop into a debugger or receive error messages and stack traces, understanding them is straightforward.\\nThe stack trace points to exactly where your code was defined.\\nWe hope you never spend hours debugging your code because of bad stack traces or asynchronous and opaque execution engines.\\n\\n### Fast and Lean\\n\\nPyTorch has minimal framework overhead. We integrate acceleration libraries\\nsuch as [Intel MKL](https://software.intel.com/mkl) and NVIDIA ([cuDNN](https://developer.nvidia.com/cudnn), [NCCL](https://developer.nvidia.com/nccl)) to maximize speed.\\nAt the core, its CPU and GPU Tensor and neural network backends\\nare mature and have been tested for years.\\n\\nHence, PyTorch is quite fast — whether you run small or large neural networks.\\n\\nThe memory usage in PyTorch is extremely efficient compared to Torch or some of the alternatives.\\nWe\\'ve written custom memory allocators for the GPU to make sure that\\nyour deep learning models are maximally memory efficient.\\nThis enables you to train bigger deep learning models than before.\\n\\n### Extensions Without Pain\\n\\nWriting new neural network modules, or interfacing with PyTorch\\'s Tensor API was designed to be straightforward\\nand with minimal abstractions.\\n\\nYou can write new neural network layers in Python using the torch API\\n[or your favorite NumPy-based libraries such as SciPy](https://pytorch.org/tutorials/advanced/numpy_extensions_tutorial.html).\\n\\nIf you want to write your layers in C/C++, we provide a convenient extension API that is efficient and with minimal boilerplate.\\nNo wrapper code needs to be written. You can see [a tutorial here](https://pytorch.org/tutorials/advanced/cpp_extension.html) and [an example here](https://github.com/pytorch/extension-cpp).\\n\\n\\n## Installation\\n\\n### Binaries\\nCommands to install binaries via Conda or pip wheels are on our website: [https://pytorch.org/get-started/locally/](https://pytorch.org/get-started/locally/)\\n\\n\\n#### NVIDIA Jetson Platforms\\n\\nPython wheels for NVIDIA\\'s Jetson Nano, Jetson TX1/TX2, Jetson Xavier NX/AGX, and Jetson AGX Orin are provided [here](https://forums.developer.nvidia.com/t/pytorch-for-jetson-version-1-10-now-available/72048) and the L4T container is published [here](https://catalog.ngc.nvidia.com/orgs/nvidia/containers/l4t-pytorch)\\n\\nThey require JetPack 4.2 and above, and [@dusty-nv](https://github.com/dusty-nv) and [@ptrblck](https://github.com/ptrblck) are maintaining them.\\n\\n\\n### From Source\\n\\n#### Prerequisites\\nIf you are installing from source, you will need:\\n- Python 3.9 or later\\n- A compiler that fully supports C++17, such as clang or gcc (gcc 9.4.0 or newer is required, on Linux)\\n- Visual Studio or Visual Studio Build Tool (Windows only)\\n\\n\\\\* PyTorch CI uses Visual C++ BuildTools, which come with Visual Studio Enterprise,\\nProfessional, or Community Editions. You can also install the build tools from\\nhttps://visualstudio.microsoft.com/visual-cpp-build-tools/. The build tools *do not*\\ncome with Visual Studio Code by default.\\n\\n\\\\* We highly recommend installing an [Anaconda](https://www.anaconda.com/download) environment. You will get a high-quality BLAS library (MKL) and you get controlled dependency versions regardless of your Linux distro.\\n\\nAn example of environment setup is shown below:\\n\\n* Linux:\\n\\n```bash\\n$ source /bin/activate\\n$ conda create -y -n \\n$ conda activate \\n```\\n\\n* Windows:\\n\\n```bash\\n$ source \\\\Scripts\\\\activate.bat\\n$ conda create -y -n \\n$ conda activate \\n$ call \"C:\\\\Program Files\\\\Microsoft Visual Studio\\\\\\\\Community\\\\VC\\\\Auxiliary\\\\Build\\\\vcvarsall.bat\" x64\\n```\\n\\n##### NVIDIA CUDA Support\\nIf you want to compile with CUDA support, [select a supported version of CUDA from our support matrix](https://pytorch.org/get-started/locally/), then install the following:\\n- [NVIDIA CUDA](https://developer.nvidia.com/cuda-downloads)\\n- [NVIDIA cuDNN](https://developer.nvidia.com/cudnn) v8.5 or above\\n- [Compiler](https://gist.github.com/ax3l/9489132) compatible with CUDA\\n\\nNote: You could refer to the [cuDNN Support Matrix](https://docs.nvidia.com/deeplearning/cudnn/reference/support-matrix.html) for cuDNN versions with the various supported CUDA, CUDA driver and NVIDIA hardware\\n\\nIf you want to disable CUDA support, export the environment variable `USE_CUDA=0`.\\nOther potentially useful environment variables may be found in `setup.py`.\\n\\nIf you are building for NVIDIA\\'s Jetson platforms (Jetson Nano, TX1, TX2, AGX Xavier), Instructions to install PyTorch for Jetson Nano are [available here](https://devtalk.nvidia.com/default/topic/1049071/jetson-nano/pytorch-for-jetson-nano/)\\n\\n##### AMD ROCm Support\\nIf you want to compile with ROCm support, install\\n- [AMD ROCm](https://rocm.docs.amd.com/en/latest/deploy/linux/quick_start.html) 4.0 and above installation\\n- ROCm is currently supported only for Linux systems.\\n\\nBy default the build system expects ROCm to be installed in `/opt/rocm`. If ROCm is installed in a different directory, the `ROCM_PATH` environment variable must be set to the ROCm installation directory. The build system automatically detects the AMD GPU architecture. Optionally, the AMD GPU architecture can be explicitly set with the `PYTORCH_ROCM_ARCH` environment variable [AMD GPU architecture](https://rocm.docs.amd.com/projects/install-on-linux/en/latest/reference/system-requirements.html#supported-gpus)\\n\\nIf you want to disable ROCm support, export the environment variable `USE_ROCM=0`.\\nOther potentially useful environment variables may be found in `setup.py`.\\n\\n##### Intel GPU Support\\nIf you want to compile with Intel GPU support, follow these\\n- [PyTorch Prerequisites for Intel GPUs](https://www.intel.com/content/www/us/en/developer/articles/tool/pytorch-prerequisites-for-intel-gpus.html) instructions.\\n- Intel GPU is supported for Linux and Windows.\\n\\nIf you want to disable Intel GPU support, export the environment variable `USE_XPU=0`.\\nOther potentially useful environment variables may be found in `setup.py`.\\n\\n#### Get the PyTorch Source\\n```bash\\ngit clone --recursive https://github.com/pytorch/pytorch\\ncd pytorch\\n# if you are updating an existing checkout\\ngit submodule sync\\ngit submodule update --init --recursive\\n```\\n\\n#### Install Dependencies\\n\\n**Common**\\n\\n```bash\\nconda install cmake ninja\\n# Run this command from the PyTorch directory after cloning the source code using the “Get the PyTorch Source“ section below\\npip install -r requirements.txt\\n```\\n\\n**On Linux**\\n\\n```bash\\npip install mkl-static mkl-include\\n# CUDA only: Add LAPACK support for the GPU if needed\\nconda install -c pytorch magma-cuda121  # or the magma-cuda* that matches your CUDA version from https://anaconda.org/pytorch/repo\\n\\n# (optional) If using torch.compile with inductor/triton, install the matching version of triton\\n# Run from the pytorch directory after cloning\\n# For Intel GPU support, please explicitly `export USE_XPU=1` before running command.\\nmake triton\\n```\\n\\n**On MacOS**\\n\\n```bash\\n# Add this package on intel x86 processor machines only\\npip install mkl-static mkl-include\\n# Add these packages if torch.distributed is needed\\nconda install pkg-config libuv\\n```\\n\\n**On Windows**\\n\\n```bash\\npip install mkl-static mkl-include\\n# Add these packages if torch.distributed is needed.\\n# Distributed package support on Windows is a prototype feature and is subject to changes.\\nconda install -c conda-forge libuv=1.39\\n```\\n\\n#### Install PyTorch\\n**On Linux**\\n\\nIf you would like to compile PyTorch with [new C++ ABI](https://gcc.gnu.org/onlinedocs/libstdc++/manual/using_dual_abi.html) enabled, then first run this command:\\n```bash\\nexport _GLIBCXX_USE_CXX11_ABI=1\\n```\\n\\nPlease **note** that starting from PyTorch 2.5, the PyTorch build with XPU supports both new and old C++ ABIs. Previously, XPU only supported the new C++ ABI. If you want to compile with Intel GPU support, please follow [Intel GPU Support](#intel-gpu-support).\\n\\nIf you\\'re compiling for AMD ROCm then first run this command:\\n```bash\\n# Only run this if you\\'re compiling for ROCm\\npython tools/amd_build/build_amd.py\\n```\\n\\nInstall PyTorch\\n```bash\\nexport CMAKE_PREFIX_PATH=\"${CONDA_PREFIX:-\\'$(dirname $(which conda))/../\\'}:${CMAKE_PREFIX_PATH}\"\\npython setup.py develop\\n```\\n\\n**On macOS**\\n\\n```bash\\npython3 setup.py develop\\n```\\n\\n**On Windows**\\n\\nIf you want to build legacy python code, please refer to [Building on legacy code and CUDA](https://github.com/pytorch/pytorch/blob/main/CONTRIBUTING.md#building-on-legacy-code-and-cuda)\\n\\n**CPU-only builds**\\n\\nIn this mode PyTorch computations will run on your CPU, not your GPU.\\n\\n```cmd\\npython setup.py develop\\n```\\n\\nNote on OpenMP: The desired OpenMP implementation is Intel OpenMP (iomp). In order to link against iomp, you\\'ll need to manually download the library and set up the building environment by tweaking `CMAKE_INCLUDE_PATH` and `LIB`. The instruction [here](https://github.com/pytorch/pytorch/blob/main/docs/source/notes/windows.rst#building-from-source) is an example for setting up both MKL and Intel OpenMP. Without these configurations for CMake, Microsoft Visual C OpenMP runtime (vcomp) will be used.\\n\\n**CUDA based build**\\n\\nIn this mode PyTorch computations will leverage your GPU via CUDA for faster number crunching\\n\\n[NVTX](https://docs.nvidia.com/gameworks/content/gameworkslibrary/nvtx/nvidia_tools_extension_library_nvtx.htm) is needed to build Pytorch with CUDA.\\nNVTX is a part of CUDA distributive, where it is called \"Nsight Compute\". To install it onto an already installed CUDA run CUDA installation once again and check the corresponding checkbox.\\nMake sure that CUDA with Nsight Compute is installed after Visual Studio.\\n\\nCurrently, VS 2017 / 2019, and Ninja are supported as the generator of CMake. If `ninja.exe` is detected in `PATH`, then Ninja will be used as the default generator, otherwise, it will use VS 2017 / 2019.\\n If Ninja is selected as the generator, the latest MSVC will get selected as the underlying toolchain.\\n\\nAdditional libraries such as\\n[Magma](https://developer.nvidia.com/magma), [oneDNN, a.k.a. MKLDNN or DNNL](https://github.com/oneapi-src/oneDNN), and [Sccache](https://github.com/mozilla/sccache) are often needed. Please refer to the [installation-helper](https://github.com/pytorch/pytorch/tree/main/.ci/pytorch/win-test-helpers/installation-helpers) to install them.\\n\\nYou can refer to the [build_pytorch.bat](https://github.com/pytorch/pytorch/blob/main/.ci/pytorch/win-test-helpers/build_pytorch.bat) script for some other environment variables configurations\\n\\n\\n```cmd\\ncmd\\n\\n:: Set the environment variables after you have downloaded and unzipped the mkl package,\\n:: else CMake would throw an error as `Could NOT find OpenMP`.\\nset CMAKE_INCLUDE_PATH={Your directory}\\\\mkl\\\\include\\nset LIB={Your directory}\\\\mkl\\\\lib;%LIB%\\n\\n:: Read the content in the previous section carefully before you proceed.\\n:: [Optional] If you want to override the underlying toolset used by Ninja and Visual Studio with CUDA, please run the following script block.\\n:: \"Visual Studio 2019 Developer Command Prompt\" will be run automatically.\\n:: Make sure you have CMake >= 3.12 before you do this when you use the Visual Studio generator.\\nset CMAKE_GENERATOR_TOOLSET_VERSION=14.27\\nset DISTUTILS_USE_SDK=1\\nfor /f \"usebackq tokens=*\" %i in (`\"%ProgramFiles(x86)%\\\\Microsoft Visual Studio\\\\Installer\\\\vswhere.exe\" -version [15^,17^) -products * -latest -property installationPath`) do call \"%i\\\\VC\\\\Auxiliary\\\\Build\\\\vcvarsall.bat\" x64 -vcvars_ver=%CMAKE_GENERATOR_TOOLSET_VERSION%\\n\\n:: [Optional] If you want to override the CUDA host compiler\\nset CUDAHOSTCXX=C:\\\\Program Files (x86)\\\\Microsoft Visual Studio\\\\2019\\\\Community\\\\VC\\\\Tools\\\\MSVC\\\\14.27.29110\\\\bin\\\\HostX64\\\\x64\\\\cl.exe\\n\\npython setup.py develop\\n\\n```\\n\\n**Intel GPU builds**\\n\\nIn this mode PyTorch with Intel GPU support will be built.\\n\\nPlease make sure [the common prerequisites](#prerequisites) as well as [the prerequisites for Intel GPU](#intel-gpu-support) are properly installed and the environment variables are configured prior to starting the build. For build tool support, `Visual Studio 2022` is required.\\n\\nThen PyTorch can be built with the command:\\n\\n```cmd\\n:: CMD Commands:\\n:: Set the CMAKE_PREFIX_PATH to help find corresponding packages\\n:: %CONDA_PREFIX% only works after `conda activate custom_env`\\n\\nif defined CMAKE_PREFIX_PATH (\\n    set \"CMAKE_PREFIX_PATH=%CONDA_PREFIX%\\\\Library;%CMAKE_PREFIX_PATH%\"\\n) else (\\n    set \"CMAKE_PREFIX_PATH=%CONDA_PREFIX%\\\\Library\"\\n)\\n\\npython setup.py develop\\n```\\n\\n##### Adjust Build Options (Optional)\\n\\nYou can adjust the configuration of cmake variables optionally (without building first), by doing\\nthe following. For example, adjusting the pre-detected directories for CuDNN or BLAS can be done\\nwith such a step.\\n\\nOn Linux\\n```bash\\nexport CMAKE_PREFIX_PATH=\"${CONDA_PREFIX:-\\'$(dirname $(which conda))/../\\'}:${CMAKE_PREFIX_PATH}\"\\npython setup.py build --cmake-only\\nccmake build  # or cmake-gui build\\n```\\n\\nOn macOS\\n```bash\\nexport CMAKE_PREFIX_PATH=\"${CONDA_PREFIX:-\\'$(dirname $(which conda))/../\\'}:${CMAKE_PREFIX_PATH}\"\\nMACOSX_DEPLOYMENT_TARGET=10.9 CC=clang CXX=clang++ python setup.py build --cmake-only\\nccmake build  # or cmake-gui build\\n```\\n\\n### Docker Image\\n\\n#### Using pre-built images\\n\\nYou can also pull a pre-built docker image from Docker Hub and run with docker v19.03+\\n\\n```bash\\ndocker run --gpus all --rm -ti --ipc=host pytorch/pytorch:latest\\n```\\n\\nPlease note that PyTorch uses shared memory to share data between processes, so if torch multiprocessing is used (e.g.\\nfor multithreaded data loaders) the default shared memory segment size that container runs with is not enough, and you\\nshould increase shared memory size either with `--ipc=host` or `--shm-size` command line options to `nvidia-docker run`.\\n\\n#### Building the image yourself\\n\\n**NOTE:** Must be built with a docker version > 18.06\\n\\nThe `Dockerfile` is supplied to build images with CUDA 11.1 support and cuDNN v8.\\nYou can pass `PYTHON_VERSION=x.y` make variable to specify which Python version is to be used by Miniconda, or leave it\\nunset to use the default.\\n\\n```bash\\nmake -f docker.Makefile\\n# images are tagged as docker.io/${your_docker_username}/pytorch\\n```\\n\\nYou can also pass the `CMAKE_VARS=\"...\"` environment variable to specify additional CMake variables to be passed to CMake during the build.\\nSee [setup.py](./setup.py) for the list of available variables.\\n\\n```bash\\nmake -f docker.Makefile\\n```\\n\\n### Building the Documentation\\n\\nTo build documentation in various formats, you will need [Sphinx](http://www.sphinx-doc.org) and the\\nreadthedocs theme.\\n\\n```bash\\ncd docs/\\npip install -r requirements.txt\\nmake html\\nmake serve\\n```\\n\\nRun `make` to get a list of all available output formats.\\n\\nIf you get a katex error run `npm install katex`.  If it persists, try\\n`npm install -g katex`\\n\\n> Note: if you installed `nodejs` with a different package manager (e.g.,\\n`conda`) then `npm` will probably install a version of `katex` that is not\\ncompatible with your version of `nodejs` and doc builds will fail.\\nA combination of versions that is known to work is `node@6.13.1` and\\n`katex@0.13.18`. To install the latter with `npm` you can run\\n```npm install -g katex@0.13.18```\\n\\n### Previous Versions\\n\\nInstallation instructions and binaries for previous PyTorch versions may be found\\non [our website](https://pytorch.org/previous-versions).\\n\\n\\n## Getting Started\\n\\nThree-pointers to get you started:\\n- [Tutorials: get you started with understanding and using PyTorch](https://pytorch.org/tutorials/)\\n- [Examples: easy to understand PyTorch code across all domains](https://github.com/pytorch/examples)\\n- [The API Reference](https://pytorch.org/docs/)\\n- [Glossary](https://github.com/pytorch/pytorch/blob/main/GLOSSARY.md)\\n\\n## Resources\\n\\n* [PyTorch.org](https://pytorch.org/)\\n* [PyTorch Tutorials](https://pytorch.org/tutorials/)\\n* [PyTorch Examples](https://github.com/pytorch/examples)\\n* [PyTorch Models](https://pytorch.org/hub/)\\n* [Intro to Deep Learning with PyTorch from Udacity](https://www.udacity.com/course/deep-learning-pytorch--ud188)\\n* [Intro to Machine Learning with PyTorch from Udacity](https://www.udacity.com/course/intro-to-machine-learning-nanodegree--nd229)\\n* [Deep Neural Networks with PyTorch from Coursera](https://www.coursera.org/learn/deep-neural-networks-with-pytorch)\\n* [PyTorch Twitter](https://twitter.com/PyTorch)\\n* [PyTorch Blog](https://pytorch.org/blog/)\\n* [PyTorch YouTube](https://www.youtube.com/channel/UCWXI5YeOsh03QvJ59PMaXFw)\\n\\n## Communication\\n* Forums: Discuss implementations, research, etc. https://discuss.pytorch.org\\n* GitHub Issues: Bug reports, feature requests, install issues, RFCs, thoughts, etc.\\n* Slack: The [PyTorch Slack](https://pytorch.slack.com/) hosts a primary audience of moderate to experienced PyTorch users and developers for general chat, online discussions, collaboration, etc. If you are a beginner looking for help, the primary medium is [PyTorch Forums](https://discuss.pytorch.org). If you need a slack invite, please fill this form: https://goo.gl/forms/PP1AGvNHpSaJP8to1\\n* Newsletter: No-noise, a one-way email newsletter with important announcements about PyTorch. You can sign-up here: https://eepurl.com/cbG0rv\\n* Facebook Page: Important announcements about PyTorch. https://www.facebook.com/pytorch\\n* For brand guidelines, please visit our website at [pytorch.org](https://pytorch.org/)\\n\\n## Releases and Contributing\\n\\nTypically, PyTorch has three minor releases a year. Please let us know if you encounter a bug by [filing an issue](https://github.com/pytorch/pytorch/issues).\\n\\nWe appreciate all contributions. If you are planning to contribute back bug-fixes, please do so without any further discussion.\\n\\nIf you plan to contribute new features, utility functions, or extensions to the core, please first open an issue and discuss the feature with us.\\nSending a PR without discussion might end up resulting in a rejected PR because we might be taking the core in a different direction than you might be aware of.\\n\\nTo learn more about making a contribution to Pytorch, please see our [Contribution page](CONTRIBUTING.md). For more information about PyTorch releases, see [Release page](RELEASE.md).\\n\\n## The Team\\n\\nPyTorch is a community-driven project with several skillful engineers and researchers contributing to it.\\n\\nPyTorch is currently maintained by [Soumith Chintala](http://soumith.ch), [Gregory Chanan](https://github.com/gchanan), [Dmytro Dzhulgakov](https://github.com/dzhulgakov), [Edward Yang](https://github.com/ezyang), and [Nikita Shulga](https://github.com/malfet) with major contributions coming from hundreds of talented individuals in various forms and means.\\nA non-exhaustive but growing list needs to mention: [Trevor Killeen](https://github.com/killeent), [Sasank Chilamkurthy](https://github.com/chsasank), [Sergey Zagoruyko](https://github.com/szagoruyko), [Adam Lerer](https://github.com/adamlerer), [Francisco Massa](https://github.com/fmassa), [Alykhan Tejani](https://github.com/alykhantejani), [Luca Antiga](https://github.com/lantiga), [Alban Desmaison](https://github.com/albanD), [Andreas Koepf](https://github.com/andreaskoepf), [James Bradbury](https://github.com/jamesb93), [Zeming Lin](https://github.com/ebetica), [Yuandong Tian](https://github.com/yuandong-tian), [Guillaume Lample](https://github.com/glample), [Marat Dukhan](https://github.com/Maratyszcza), [Natalia Gimelshein](https://github.com/ngimel), [Christian Sarofeen](https://github.com/csarofeen), [Martin Raison](https://github.com/martinraison), [Edward Yang](https://github.com/ezyang), [Zachary Devito](https://github.com/zdevito).\\n\\nNote: This project is unrelated to [hughperkins/pytorch](https://github.com/hughperkins/pytorch) with the same name. Hugh is a valuable contributor to the Torch community and has helped with many things Torch and PyTorch.\\n\\n## License\\n\\nPyTorch has a BSD-style license, as found in the [LICENSE](LICENSE) file.\\n',\n",
       " 'topic': ['Scientific/Engineering',\n",
       "  'Scientific/Engineering :: Artificial Intelligence',\n",
       "  'Scientific/Engineering :: Mathematics',\n",
       "  'Software Development',\n",
       "  'Software Development :: Libraries',\n",
       "  'Software Development :: Libraries :: Python Modules'],\n",
       " 'keywords': 'pytorch, machine learning',\n",
       " 'summary': 'Tensors and Dynamic neural networks in Python with strong GPU acceleration'}"
      ]
     },
     "execution_count": 12,
     "metadata": {},
     "output_type": "execute_result"
    }
   ],
   "source": [
    "pp = PypiMetadata('torch')\n",
    "pp_meta = pp.get_output()\n",
    "pp_meta"
   ]
  },
  {
   "cell_type": "code",
   "execution_count": null,
   "id": "913ca602",
   "metadata": {},
   "outputs": [],
   "source": []
  }
 ],
 "metadata": {
  "kernelspec": {
   "display_name": "packcategory_env",
   "language": "python",
   "name": "python3"
  },
  "language_info": {
   "codemirror_mode": {
    "name": "ipython",
    "version": 3
   },
   "file_extension": ".py",
   "mimetype": "text/x-python",
   "name": "python",
   "nbconvert_exporter": "python",
   "pygments_lexer": "ipython3",
   "version": "3.10.18"
  }
 },
 "nbformat": 4,
 "nbformat_minor": 5
}
